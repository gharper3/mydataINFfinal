{
  "nbformat": 4,
  "nbformat_minor": 0,
  "metadata": {
    "colab": {
      "provenance": []
    },
    "kernelspec": {
      "name": "ir",
      "display_name": "R"
    },
    "language_info": {
      "name": "R"
    }
  },
  "cells": [
    {
      "cell_type": "markdown",
      "source": [
        "##Programming 1 - Assignment 1\n",
        "######Your name(s): Andrew Harper and Andrew Singh\n",
        "\n",
        "#####The data of over 1000 eBay auctions is provided in the file eBayAcution.csv. Use RStudio to study this marketplace.\n",
        "#####Source: The data is adapted from this book: https://www.dataminingbook.com/book/r-2nd-edition-2023)\n",
        "\n",
        "\n",
        "---\n",
        "\n"
      ],
      "metadata": {
        "id": "jFcox1gP6eXN"
      }
    },
    {
      "cell_type": "markdown",
      "source": [
        "####1) Load the file: \"eBayAcution.csv\" and save it as auctionData.\n"
      ],
      "metadata": {
        "id": "JWn21x6_6u6K"
      }
    },
    {
      "cell_type": "code",
      "source": [
        "auctionData = read.csv(\"/eBayAuctions.csv\")"
      ],
      "metadata": {
        "id": "tRykI_sY7U3k"
      },
      "execution_count": 2,
      "outputs": []
    },
    {
      "cell_type": "markdown",
      "source": [
        "\n",
        "\n",
        "---\n",
        "\n",
        "\n",
        "####2) Write a code that checks if the dataset has any missing values, a code that returns the number of auctions (i.e., rows), and one to return the number of variables (i.e., columns)."
      ],
      "metadata": {
        "id": "sGTIUMcD7Nxd"
      }
    },
    {
      "cell_type": "code",
      "source": [
        "#Checks if the dataset has any missing values - No NAs\n",
        "anyNA(auctionData)\n",
        "sum(is.na(auctionData))\n",
        "\n",
        "#Number of Auctions - 1223 Auctions\n",
        "nrow(auctionData)\n",
        "#Number of Variables - 6 variables\n",
        "ncol(auctionData)"
      ],
      "metadata": {
        "id": "f3hnoFHJ7vb0",
        "colab": {
          "base_uri": "https://localhost:8080/",
          "height": 86
        },
        "outputId": "06754508-9a3e-49d6-d239-fedea4e50303"
      },
      "execution_count": 3,
      "outputs": [
        {
          "output_type": "display_data",
          "data": {
            "text/html": [
              "FALSE"
            ],
            "text/markdown": "FALSE",
            "text/latex": "FALSE",
            "text/plain": [
              "[1] FALSE"
            ]
          },
          "metadata": {}
        },
        {
          "output_type": "display_data",
          "data": {
            "text/html": [
              "0"
            ],
            "text/markdown": "0",
            "text/latex": "0",
            "text/plain": [
              "[1] 0"
            ]
          },
          "metadata": {}
        },
        {
          "output_type": "display_data",
          "data": {
            "text/html": [
              "1223"
            ],
            "text/markdown": "1223",
            "text/latex": "1223",
            "text/plain": [
              "[1] 1223"
            ]
          },
          "metadata": {}
        },
        {
          "output_type": "display_data",
          "data": {
            "text/html": [
              "6"
            ],
            "text/markdown": "6",
            "text/latex": "6",
            "text/plain": [
              "[1] 6"
            ]
          },
          "metadata": {}
        }
      ]
    },
    {
      "cell_type": "markdown",
      "source": [
        "\n",
        "\n",
        "---\n",
        "\n",
        "\n",
        "####3) What is the maximum auction duration? How many auctions were open for these many days?  What is the average auction duration? What percentage of the auctions have an above average duration?\n"
      ],
      "metadata": {
        "id": "hk6ZEp4E7-yI"
      }
    },
    {
      "cell_type": "code",
      "source": [
        "#Maximum Auction Duration - 10\n",
        "max(auctionData$Duration)\n",
        "\n",
        "#How many auctions were open for these days - 220\n",
        "nrow(auctionData[auctionData$Duration == 10,])\n",
        "\n",
        "#Average Auction Duration - 6.421096\n",
        "mean(auctionData$Duration)\n",
        "\n",
        "#What Percentage of Auctions have an above average duration - 59.04%\n",
        "(nrow(auctionData[auctionData$Duration > mean(auctionData$Duration),]) / nrow(auctionData))*100"
      ],
      "metadata": {
        "id": "jzVEb_ci72Rj",
        "colab": {
          "base_uri": "https://localhost:8080/",
          "height": 86
        },
        "outputId": "5fb395b3-2d76-4ed1-ce45-49fb3d7f108a"
      },
      "execution_count": 4,
      "outputs": [
        {
          "output_type": "display_data",
          "data": {
            "text/html": [
              "10"
            ],
            "text/markdown": "10",
            "text/latex": "10",
            "text/plain": [
              "[1] 10"
            ]
          },
          "metadata": {}
        },
        {
          "output_type": "display_data",
          "data": {
            "text/html": [
              "220"
            ],
            "text/markdown": "220",
            "text/latex": "220",
            "text/plain": [
              "[1] 220"
            ]
          },
          "metadata": {}
        },
        {
          "output_type": "display_data",
          "data": {
            "text/html": [
              "6.42109566639411"
            ],
            "text/markdown": "6.42109566639411",
            "text/latex": "6.42109566639411",
            "text/plain": [
              "[1] 6.421096"
            ]
          },
          "metadata": {}
        },
        {
          "output_type": "display_data",
          "data": {
            "text/html": [
              "59.0351594439902"
            ],
            "text/markdown": "59.0351594439902",
            "text/latex": "59.0351594439902",
            "text/plain": [
              "[1] 59.03516"
            ]
          },
          "metadata": {}
        }
      ]
    },
    {
      "cell_type": "markdown",
      "source": [
        "\n",
        "\n",
        "---\n",
        "\n",
        "\n",
        "####4) Create a new variable called Ratio that calculates the ratio of the closing price over the opening price for each auction and add this variable to the dataset as a new column. What's the average ratio of all auctions? What's the average ratio of 'Computer' auctions?"
      ],
      "metadata": {
        "id": "JjuBgSPO78xZ"
      }
    },
    {
      "cell_type": "code",
      "source": [
        "# Price Ratio -\n",
        "auctionData$Ratio = (auctionData$ClosePrice / auctionData$OpenPrice)\n",
        "\n",
        "#Average Price Ration for all auctions - 119.6468\n",
        "mean(auctionData$Ratio)\n",
        "\n",
        "#Average Ratio for Computer Auctions - 21.82995\n",
        "computerAuctions = auctionData[auctionData$Category == \"Computer\",]\n",
        "mean(computerAuctions$Ratio)"
      ],
      "metadata": {
        "id": "G7Yyb1Fy8PXR",
        "colab": {
          "base_uri": "https://localhost:8080/",
          "height": 52
        },
        "outputId": "34f4ff2c-5f73-4f2c-b2d4-991b7a1cb9bf"
      },
      "execution_count": 5,
      "outputs": [
        {
          "output_type": "display_data",
          "data": {
            "text/html": [
              "119.646793184339"
            ],
            "text/markdown": "119.646793184339",
            "text/latex": "119.646793184339",
            "text/plain": [
              "[1] 119.6468"
            ]
          },
          "metadata": {}
        },
        {
          "output_type": "display_data",
          "data": {
            "text/html": [
              "21.8299473834876"
            ],
            "text/markdown": "21.8299473834876",
            "text/latex": "21.8299473834876",
            "text/plain": [
              "[1] 21.82995"
            ]
          },
          "metadata": {}
        }
      ]
    },
    {
      "cell_type": "markdown",
      "source": [
        "\n",
        "\n",
        "---\n",
        "\n",
        "\n",
        "####5) Create an object named \"catNames\" that contains the names of unique auction categories, sorted in alphabetical order. Write a code to return the number of categories stored in this object."
      ],
      "metadata": {
        "id": "7YSkOjtU8N9F"
      }
    },
    {
      "cell_type": "code",
      "source": [
        "#Unique Categories -10\n",
        "catNames <- sort(unique(auctionData$Category))\n",
        "catNames\n",
        "length(catNames)"
      ],
      "metadata": {
        "id": "WwNN33Gg8dhl",
        "colab": {
          "base_uri": "https://localhost:8080/",
          "height": 52
        },
        "outputId": "6e7b4fff-5e23-41db-e2b5-46b831722d5e"
      },
      "execution_count": 6,
      "outputs": [
        {
          "output_type": "display_data",
          "data": {
            "text/html": [
              "<style>\n",
              ".list-inline {list-style: none; margin:0; padding: 0}\n",
              ".list-inline>li {display: inline-block}\n",
              ".list-inline>li:not(:last-child)::after {content: \"\\00b7\"; padding: 0 .5ex}\n",
              "</style>\n",
              "<ol class=list-inline><li>'Automotive'</li><li>'Books'</li><li>'Clothing/Accessories'</li><li>'Collectibles'</li><li>'Computer'</li><li>'Electronics'</li><li>'Home/Garden'</li><li>'Jewelry'</li><li>'Music/Movie/Game'</li><li>'Pottery/Glass'</li></ol>\n"
            ],
            "text/markdown": "1. 'Automotive'\n2. 'Books'\n3. 'Clothing/Accessories'\n4. 'Collectibles'\n5. 'Computer'\n6. 'Electronics'\n7. 'Home/Garden'\n8. 'Jewelry'\n9. 'Music/Movie/Game'\n10. 'Pottery/Glass'\n\n\n",
            "text/latex": "\\begin{enumerate*}\n\\item 'Automotive'\n\\item 'Books'\n\\item 'Clothing/Accessories'\n\\item 'Collectibles'\n\\item 'Computer'\n\\item 'Electronics'\n\\item 'Home/Garden'\n\\item 'Jewelry'\n\\item 'Music/Movie/Game'\n\\item 'Pottery/Glass'\n\\end{enumerate*}\n",
            "text/plain": [
              " [1] \"Automotive\"           \"Books\"                \"Clothing/Accessories\"\n",
              " [4] \"Collectibles\"         \"Computer\"             \"Electronics\"         \n",
              " [7] \"Home/Garden\"          \"Jewelry\"              \"Music/Movie/Game\"    \n",
              "[10] \"Pottery/Glass\"       "
            ]
          },
          "metadata": {}
        },
        {
          "output_type": "display_data",
          "data": {
            "text/html": [
              "10"
            ],
            "text/markdown": "10",
            "text/latex": "10",
            "text/plain": [
              "[1] 10"
            ]
          },
          "metadata": {}
        }
      ]
    },
    {
      "cell_type": "markdown",
      "source": [
        "\n",
        "\n",
        "---\n",
        "\n",
        "\n",
        "####6) Write a loop to go through \"catNames\" and calculate the number of auctions in each category. In so doing, save the results in a vector called \"numAuctions\". Write a code to return the values stored in this object.\n"
      ],
      "metadata": {
        "id": "suZA_oOQ8UME"
      }
    },
    {
      "cell_type": "code",
      "source": [
        "numAuctions <- vector()\n",
        "\n",
        "for(i in catNames){\n",
        "  subset_data <- auctionData[auctionData$Category == i,]\n",
        "\n",
        "  # saving value in empty vector in each iteration\n",
        "  numAuctions[i] <- nrow(subset_data)\n",
        "\n",
        "}\n",
        "\n",
        "numAuctions"
      ],
      "metadata": {
        "id": "9K3SwlwK8igx",
        "colab": {
          "base_uri": "https://localhost:8080/",
          "height": 34
        },
        "outputId": "57e318d1-ff17-4691-8848-957d85a47ff8"
      },
      "execution_count": 7,
      "outputs": [
        {
          "output_type": "display_data",
          "data": {
            "text/html": [
              "<style>\n",
              ".dl-inline {width: auto; margin:0; padding: 0}\n",
              ".dl-inline>dt, .dl-inline>dd {float: none; width: auto; display: inline-block}\n",
              ".dl-inline>dt::after {content: \":\\0020\"; padding-right: .5ex}\n",
              ".dl-inline>dt:not(:first-of-type) {padding-left: .5ex}\n",
              "</style><dl class=dl-inline><dt>Automotive</dt><dd>167</dd><dt>Books</dt><dd>53</dd><dt>Clothing/Accessories</dt><dd>118</dd><dt>Collectibles</dt><dd>222</dd><dt>Computer</dt><dd>33</dd><dt>Electronics</dt><dd>54</dd><dt>Home/Garden</dt><dd>101</dd><dt>Jewelry</dt><dd>58</dd><dt>Music/Movie/Game</dt><dd>398</dd><dt>Pottery/Glass</dt><dd>19</dd></dl>\n"
            ],
            "text/markdown": "Automotive\n:   167Books\n:   53Clothing/Accessories\n:   118Collectibles\n:   222Computer\n:   33Electronics\n:   54Home/Garden\n:   101Jewelry\n:   58Music/Movie/Game\n:   398Pottery/Glass\n:   19\n\n",
            "text/latex": "\\begin{description*}\n\\item[Automotive] 167\n\\item[Books] 53\n\\item[Clothing/Accessories] 118\n\\item[Collectibles] 222\n\\item[Computer] 33\n\\item[Electronics] 54\n\\item[Home/Garden] 101\n\\item[Jewelry] 58\n\\item[Music/Movie/Game] 398\n\\item[Pottery/Glass] 19\n\\end{description*}\n",
            "text/plain": [
              "          Automotive                Books Clothing/Accessories \n",
              "                 167                   53                  118 \n",
              "        Collectibles             Computer          Electronics \n",
              "                 222                   33                   54 \n",
              "         Home/Garden              Jewelry     Music/Movie/Game \n",
              "                 101                   58                  398 \n",
              "       Pottery/Glass \n",
              "                  19 "
            ]
          },
          "metadata": {}
        }
      ]
    },
    {
      "cell_type": "markdown",
      "source": [
        "\n",
        "\n",
        "---\n",
        "\n",
        "\n",
        "####7) Combine the two objects (catNames and numAuctions) into a new data frame called catInfo. Write two different codes to return the fifth element of the second column in the catInfo dataframe.\n",
        "\n",
        "\n",
        "\n"
      ],
      "metadata": {
        "id": "-AAZuurj8WCO"
      }
    },
    {
      "cell_type": "code",
      "source": [
        "catInfo = data.frame(cbind(catNames, numAuctions))\n",
        "catInfo\n",
        "# Write two different codes to return the fifth element of the second column in the catInfo dataframe. - 33\n",
        "catInfo[5,2]\n",
        "catInfo$numAuctions[5]"
      ],
      "metadata": {
        "id": "eUuFR7Fl8nH0",
        "colab": {
          "base_uri": "https://localhost:8080/",
          "height": 446
        },
        "outputId": "d6dca1ad-a268-4485-8e60-f3d99297b78a"
      },
      "execution_count": 8,
      "outputs": [
        {
          "output_type": "display_data",
          "data": {
            "text/html": [
              "<table class=\"dataframe\">\n",
              "<caption>A data.frame: 10 × 2</caption>\n",
              "<thead>\n",
              "\t<tr><th></th><th scope=col>catNames</th><th scope=col>numAuctions</th></tr>\n",
              "\t<tr><th></th><th scope=col>&lt;chr&gt;</th><th scope=col>&lt;chr&gt;</th></tr>\n",
              "</thead>\n",
              "<tbody>\n",
              "\t<tr><th scope=row>Automotive</th><td>Automotive          </td><td>167</td></tr>\n",
              "\t<tr><th scope=row>Books</th><td>Books               </td><td>53 </td></tr>\n",
              "\t<tr><th scope=row>Clothing/Accessories</th><td>Clothing/Accessories</td><td>118</td></tr>\n",
              "\t<tr><th scope=row>Collectibles</th><td>Collectibles        </td><td>222</td></tr>\n",
              "\t<tr><th scope=row>Computer</th><td>Computer            </td><td>33 </td></tr>\n",
              "\t<tr><th scope=row>Electronics</th><td>Electronics         </td><td>54 </td></tr>\n",
              "\t<tr><th scope=row>Home/Garden</th><td>Home/Garden         </td><td>101</td></tr>\n",
              "\t<tr><th scope=row>Jewelry</th><td>Jewelry             </td><td>58 </td></tr>\n",
              "\t<tr><th scope=row>Music/Movie/Game</th><td>Music/Movie/Game    </td><td>398</td></tr>\n",
              "\t<tr><th scope=row>Pottery/Glass</th><td>Pottery/Glass       </td><td>19 </td></tr>\n",
              "</tbody>\n",
              "</table>\n"
            ],
            "text/markdown": "\nA data.frame: 10 × 2\n\n| <!--/--> | catNames &lt;chr&gt; | numAuctions &lt;chr&gt; |\n|---|---|---|\n| Automotive | Automotive           | 167 |\n| Books | Books                | 53  |\n| Clothing/Accessories | Clothing/Accessories | 118 |\n| Collectibles | Collectibles         | 222 |\n| Computer | Computer             | 33  |\n| Electronics | Electronics          | 54  |\n| Home/Garden | Home/Garden          | 101 |\n| Jewelry | Jewelry              | 58  |\n| Music/Movie/Game | Music/Movie/Game     | 398 |\n| Pottery/Glass | Pottery/Glass        | 19  |\n\n",
            "text/latex": "A data.frame: 10 × 2\n\\begin{tabular}{r|ll}\n  & catNames & numAuctions\\\\\n  & <chr> & <chr>\\\\\n\\hline\n\tAutomotive & Automotive           & 167\\\\\n\tBooks & Books                & 53 \\\\\n\tClothing/Accessories & Clothing/Accessories & 118\\\\\n\tCollectibles & Collectibles         & 222\\\\\n\tComputer & Computer             & 33 \\\\\n\tElectronics & Electronics          & 54 \\\\\n\tHome/Garden & Home/Garden          & 101\\\\\n\tJewelry & Jewelry              & 58 \\\\\n\tMusic/Movie/Game & Music/Movie/Game     & 398\\\\\n\tPottery/Glass & Pottery/Glass        & 19 \\\\\n\\end{tabular}\n",
            "text/plain": [
              "                     catNames             numAuctions\n",
              "Automotive           Automotive           167        \n",
              "Books                Books                53         \n",
              "Clothing/Accessories Clothing/Accessories 118        \n",
              "Collectibles         Collectibles         222        \n",
              "Computer             Computer             33         \n",
              "Electronics          Electronics          54         \n",
              "Home/Garden          Home/Garden          101        \n",
              "Jewelry              Jewelry              58         \n",
              "Music/Movie/Game     Music/Movie/Game     398        \n",
              "Pottery/Glass        Pottery/Glass        19         "
            ]
          },
          "metadata": {}
        },
        {
          "output_type": "display_data",
          "data": {
            "text/html": [
              "'33'"
            ],
            "text/markdown": "'33'",
            "text/latex": "'33'",
            "text/plain": [
              "[1] \"33\""
            ]
          },
          "metadata": {}
        },
        {
          "output_type": "display_data",
          "data": {
            "text/html": [
              "'33'"
            ],
            "text/markdown": "'33'",
            "text/latex": "'33'",
            "text/plain": [
              "[1] \"33\""
            ]
          },
          "metadata": {}
        }
      ]
    },
    {
      "cell_type": "markdown",
      "source": [
        "\n",
        "\n",
        "---\n",
        "\n",
        "\n",
        "####8) Write a piece of code that prints the name of each category and the number of auctions in that category.\n"
      ],
      "metadata": {
        "id": "sHOIxrlv8XpN"
      }
    },
    {
      "cell_type": "code",
      "source": [
        "catInfo\n",
        "numAuctions\n"
      ],
      "metadata": {
        "id": "X07UJR7c8plN",
        "colab": {
          "base_uri": "https://localhost:8080/",
          "height": 429
        },
        "outputId": "e25d0db6-4a26-46b8-98b9-0e624f53c4c4"
      },
      "execution_count": 10,
      "outputs": [
        {
          "output_type": "display_data",
          "data": {
            "text/html": [
              "<table class=\"dataframe\">\n",
              "<caption>A data.frame: 10 × 2</caption>\n",
              "<thead>\n",
              "\t<tr><th></th><th scope=col>catNames</th><th scope=col>numAuctions</th></tr>\n",
              "\t<tr><th></th><th scope=col>&lt;chr&gt;</th><th scope=col>&lt;chr&gt;</th></tr>\n",
              "</thead>\n",
              "<tbody>\n",
              "\t<tr><th scope=row>Automotive</th><td>Automotive          </td><td>167</td></tr>\n",
              "\t<tr><th scope=row>Books</th><td>Books               </td><td>53 </td></tr>\n",
              "\t<tr><th scope=row>Clothing/Accessories</th><td>Clothing/Accessories</td><td>118</td></tr>\n",
              "\t<tr><th scope=row>Collectibles</th><td>Collectibles        </td><td>222</td></tr>\n",
              "\t<tr><th scope=row>Computer</th><td>Computer            </td><td>33 </td></tr>\n",
              "\t<tr><th scope=row>Electronics</th><td>Electronics         </td><td>54 </td></tr>\n",
              "\t<tr><th scope=row>Home/Garden</th><td>Home/Garden         </td><td>101</td></tr>\n",
              "\t<tr><th scope=row>Jewelry</th><td>Jewelry             </td><td>58 </td></tr>\n",
              "\t<tr><th scope=row>Music/Movie/Game</th><td>Music/Movie/Game    </td><td>398</td></tr>\n",
              "\t<tr><th scope=row>Pottery/Glass</th><td>Pottery/Glass       </td><td>19 </td></tr>\n",
              "</tbody>\n",
              "</table>\n"
            ],
            "text/markdown": "\nA data.frame: 10 × 2\n\n| <!--/--> | catNames &lt;chr&gt; | numAuctions &lt;chr&gt; |\n|---|---|---|\n| Automotive | Automotive           | 167 |\n| Books | Books                | 53  |\n| Clothing/Accessories | Clothing/Accessories | 118 |\n| Collectibles | Collectibles         | 222 |\n| Computer | Computer             | 33  |\n| Electronics | Electronics          | 54  |\n| Home/Garden | Home/Garden          | 101 |\n| Jewelry | Jewelry              | 58  |\n| Music/Movie/Game | Music/Movie/Game     | 398 |\n| Pottery/Glass | Pottery/Glass        | 19  |\n\n",
            "text/latex": "A data.frame: 10 × 2\n\\begin{tabular}{r|ll}\n  & catNames & numAuctions\\\\\n  & <chr> & <chr>\\\\\n\\hline\n\tAutomotive & Automotive           & 167\\\\\n\tBooks & Books                & 53 \\\\\n\tClothing/Accessories & Clothing/Accessories & 118\\\\\n\tCollectibles & Collectibles         & 222\\\\\n\tComputer & Computer             & 33 \\\\\n\tElectronics & Electronics          & 54 \\\\\n\tHome/Garden & Home/Garden          & 101\\\\\n\tJewelry & Jewelry              & 58 \\\\\n\tMusic/Movie/Game & Music/Movie/Game     & 398\\\\\n\tPottery/Glass & Pottery/Glass        & 19 \\\\\n\\end{tabular}\n",
            "text/plain": [
              "                     catNames             numAuctions\n",
              "Automotive           Automotive           167        \n",
              "Books                Books                53         \n",
              "Clothing/Accessories Clothing/Accessories 118        \n",
              "Collectibles         Collectibles         222        \n",
              "Computer             Computer             33         \n",
              "Electronics          Electronics          54         \n",
              "Home/Garden          Home/Garden          101        \n",
              "Jewelry              Jewelry              58         \n",
              "Music/Movie/Game     Music/Movie/Game     398        \n",
              "Pottery/Glass        Pottery/Glass        19         "
            ]
          },
          "metadata": {}
        },
        {
          "output_type": "display_data",
          "data": {
            "text/html": [
              "<style>\n",
              ".dl-inline {width: auto; margin:0; padding: 0}\n",
              ".dl-inline>dt, .dl-inline>dd {float: none; width: auto; display: inline-block}\n",
              ".dl-inline>dt::after {content: \":\\0020\"; padding-right: .5ex}\n",
              ".dl-inline>dt:not(:first-of-type) {padding-left: .5ex}\n",
              "</style><dl class=dl-inline><dt>Automotive</dt><dd>167</dd><dt>Books</dt><dd>53</dd><dt>Clothing/Accessories</dt><dd>118</dd><dt>Collectibles</dt><dd>222</dd><dt>Computer</dt><dd>33</dd><dt>Electronics</dt><dd>54</dd><dt>Home/Garden</dt><dd>101</dd><dt>Jewelry</dt><dd>58</dd><dt>Music/Movie/Game</dt><dd>398</dd><dt>Pottery/Glass</dt><dd>19</dd></dl>\n"
            ],
            "text/markdown": "Automotive\n:   167Books\n:   53Clothing/Accessories\n:   118Collectibles\n:   222Computer\n:   33Electronics\n:   54Home/Garden\n:   101Jewelry\n:   58Music/Movie/Game\n:   398Pottery/Glass\n:   19\n\n",
            "text/latex": "\\begin{description*}\n\\item[Automotive] 167\n\\item[Books] 53\n\\item[Clothing/Accessories] 118\n\\item[Collectibles] 222\n\\item[Computer] 33\n\\item[Electronics] 54\n\\item[Home/Garden] 101\n\\item[Jewelry] 58\n\\item[Music/Movie/Game] 398\n\\item[Pottery/Glass] 19\n\\end{description*}\n",
            "text/plain": [
              "          Automotive                Books Clothing/Accessories \n",
              "                 167                   53                  118 \n",
              "        Collectibles             Computer          Electronics \n",
              "                 222                   33                   54 \n",
              "         Home/Garden              Jewelry     Music/Movie/Game \n",
              "                 101                   58                  398 \n",
              "       Pottery/Glass \n",
              "                  19 "
            ]
          },
          "metadata": {}
        }
      ]
    },
    {
      "cell_type": "markdown",
      "source": [
        "\n",
        "\n",
        "---\n",
        "\n",
        "\n",
        "####9) Create a function, called weekendTest, that checks whether a given day is a weekend (endDay of 'Sat' or 'Sun') or not and returns TRUE or FALSE (logical constants in R). Then use this function to create a new variable (called Weekend) that shows if each auction had an endDay of the weekend or not. Add this variable to the dataset as a new column. How many auction ended on weekend? (Write a code that returns this value)"
      ],
      "metadata": {
        "id": "KDY1qy1E8ZN5"
      }
    },
    {
      "cell_type": "code",
      "source": [
        "weekendTest <- function(day) {\n",
        "  return(day %in% c('Sat', 'Sun'))\n",
        "}\n",
        "\n",
        "# Apply the function to create a new column 'Weekend'\n",
        "auctionData$Weekend <- sapply(auctionData$endDay, weekendTest)\n",
        "auctionData\n",
        "\n",
        "# Count the number of auctions that ended on a weekend\n",
        "numWeekendAuctions <- sum(auctionData$Weekend)\n",
        "numWeekendAuctions"
      ],
      "metadata": {
        "id": "8JrGIbUq8usM",
        "colab": {
          "base_uri": "https://localhost:8080/",
          "height": 1000
        },
        "outputId": "a7a668d3-7f40-48be-bcd6-aa023eab3f3c"
      },
      "execution_count": 11,
      "outputs": [
        {
          "output_type": "display_data",
          "data": {
            "text/html": [
              "<table class=\"dataframe\">\n",
              "<caption>A data.frame: 1223 × 8</caption>\n",
              "<thead>\n",
              "\t<tr><th scope=col>Category</th><th scope=col>sellerRating</th><th scope=col>Duration</th><th scope=col>OpenPrice</th><th scope=col>ClosePrice</th><th scope=col>endDay</th><th scope=col>Ratio</th><th scope=col>Weekend</th></tr>\n",
              "\t<tr><th scope=col>&lt;chr&gt;</th><th scope=col>&lt;int&gt;</th><th scope=col>&lt;int&gt;</th><th scope=col>&lt;dbl&gt;</th><th scope=col>&lt;dbl&gt;</th><th scope=col>&lt;chr&gt;</th><th scope=col>&lt;dbl&gt;</th><th scope=col>&lt;lgl&gt;</th></tr>\n",
              "</thead>\n",
              "<tbody>\n",
              "\t<tr><td>Collectibles    </td><td> 1</td><td> 5</td><td>  0.010000</td><td>112.52</td><td>Tue</td><td>11252.000000</td><td>FALSE</td></tr>\n",
              "\t<tr><td>Collectibles    </td><td> 1</td><td> 5</td><td>  0.010000</td><td> 61.05</td><td>Tue</td><td> 6105.000000</td><td>FALSE</td></tr>\n",
              "\t<tr><td>Collectibles    </td><td> 1</td><td> 5</td><td>  0.010000</td><td> 52.02</td><td>Tue</td><td> 5202.000000</td><td>FALSE</td></tr>\n",
              "\t<tr><td>Collectibles    </td><td> 1</td><td> 5</td><td>  0.010000</td><td> 46.02</td><td>Tue</td><td> 4602.000000</td><td>FALSE</td></tr>\n",
              "\t<tr><td>Collectibles    </td><td> 1</td><td> 5</td><td>  0.010000</td><td> 26.00</td><td>Tue</td><td> 2600.000000</td><td>FALSE</td></tr>\n",
              "\t<tr><td>Collectibles    </td><td> 1</td><td> 5</td><td>  0.010000</td><td> 20.70</td><td>Tue</td><td> 2070.000000</td><td>FALSE</td></tr>\n",
              "\t<tr><td>Automotive      </td><td> 1</td><td> 5</td><td>  9.990000</td><td>197.50</td><td>Sat</td><td>   19.769770</td><td> TRUE</td></tr>\n",
              "\t<tr><td>Computer        </td><td> 1</td><td> 5</td><td>  1.229825</td><td> 35.05</td><td>Mon</td><td>   28.500000</td><td>FALSE</td></tr>\n",
              "\t<tr><td>Collectibles    </td><td> 1</td><td> 5</td><td>  0.010000</td><td>188.33</td><td>Fri</td><td>18833.000000</td><td>FALSE</td></tr>\n",
              "\t<tr><td>Collectibles    </td><td> 1</td><td> 5</td><td>  0.010000</td><td> 43.00</td><td>Fri</td><td> 4300.000000</td><td>FALSE</td></tr>\n",
              "\t<tr><td>Collectibles    </td><td> 1</td><td> 5</td><td>  0.010000</td><td> 23.65</td><td>Fri</td><td> 2365.000000</td><td>FALSE</td></tr>\n",
              "\t<tr><td>Collectibles    </td><td> 1</td><td> 5</td><td>  0.010000</td><td> 22.00</td><td>Fri</td><td> 2200.000000</td><td>FALSE</td></tr>\n",
              "\t<tr><td>Electronics     </td><td> 4</td><td>10</td><td>  1.229697</td><td> 81.16</td><td>Sat</td><td>   66.000000</td><td> TRUE</td></tr>\n",
              "\t<tr><td>Electronics     </td><td> 4</td><td> 5</td><td>  0.010000</td><td> 62.00</td><td>Sat</td><td> 6200.000000</td><td> TRUE</td></tr>\n",
              "\t<tr><td>Books           </td><td> 5</td><td>10</td><td>  6.150000</td><td>  6.15</td><td>Wed</td><td>    1.000000</td><td>FALSE</td></tr>\n",
              "\t<tr><td>Collectibles    </td><td> 5</td><td> 5</td><td> 19.990000</td><td> 77.00</td><td>Sun</td><td>    3.851926</td><td> TRUE</td></tr>\n",
              "\t<tr><td>Electronics     </td><td> 7</td><td> 3</td><td> 67.634807</td><td>222.58</td><td>Sat</td><td>    3.290909</td><td> TRUE</td></tr>\n",
              "\t<tr><td>Music/Movie/Game</td><td> 7</td><td> 3</td><td> 36.890000</td><td> 36.89</td><td>Sat</td><td>    1.000000</td><td> TRUE</td></tr>\n",
              "\t<tr><td>Electronics     </td><td> 8</td><td> 5</td><td> 69.990000</td><td> 69.99</td><td>Tue</td><td>    1.000000</td><td>FALSE</td></tr>\n",
              "\t<tr><td>Books           </td><td> 8</td><td> 5</td><td> 15.000000</td><td> 47.78</td><td>Sun</td><td>    3.185333</td><td> TRUE</td></tr>\n",
              "\t<tr><td>Automotive      </td><td> 8</td><td> 7</td><td> 25.000000</td><td> 91.00</td><td>Sat</td><td>    3.640000</td><td> TRUE</td></tr>\n",
              "\t<tr><td>Electronics     </td><td> 9</td><td> 5</td><td>  1.230000</td><td>  1.23</td><td>Sun</td><td>    1.000000</td><td> TRUE</td></tr>\n",
              "\t<tr><td>Automotive      </td><td>10</td><td> 5</td><td> 50.000000</td><td>170.50</td><td>Tue</td><td>    3.410000</td><td>FALSE</td></tr>\n",
              "\t<tr><td>Electronics     </td><td>10</td><td>10</td><td>  1.229752</td><td>197.99</td><td>Sat</td><td>  161.000000</td><td> TRUE</td></tr>\n",
              "\t<tr><td>Automotive      </td><td>10</td><td> 5</td><td>  1.000000</td><td> 70.00</td><td>Mon</td><td>   70.000000</td><td>FALSE</td></tr>\n",
              "\t<tr><td>Electronics     </td><td>13</td><td>10</td><td>122.975490</td><td>250.87</td><td>Wed</td><td>    2.040000</td><td>FALSE</td></tr>\n",
              "\t<tr><td>Electronics     </td><td>13</td><td> 7</td><td>122.973928</td><td>278.29</td><td>Sun</td><td>    2.263000</td><td> TRUE</td></tr>\n",
              "\t<tr><td>Books           </td><td>15</td><td>10</td><td>  1.231076</td><td>  3.09</td><td>Sun</td><td>    2.510000</td><td> TRUE</td></tr>\n",
              "\t<tr><td>Music/Movie/Game</td><td>17</td><td> 7</td><td>  1.766933</td><td> 23.22</td><td>Thu</td><td>   13.141414</td><td>FALSE</td></tr>\n",
              "\t<tr><td>Music/Movie/Game</td><td>17</td><td> 7</td><td>  1.766914</td><td> 18.74</td><td>Thu</td><td>   10.606061</td><td>FALSE</td></tr>\n",
              "\t<tr><td>⋮</td><td>⋮</td><td>⋮</td><td>⋮</td><td>⋮</td><td>⋮</td><td>⋮</td><td>⋮</td></tr>\n",
              "\t<tr><td>Music/Movie/Game</td><td> 9003</td><td>7</td><td> 3.99</td><td> 5.51</td><td>Fri</td><td>1.380952</td><td>FALSE</td></tr>\n",
              "\t<tr><td>Electronics     </td><td> 9747</td><td>5</td><td>25.00</td><td>25.00</td><td>Tue</td><td>1.000000</td><td>FALSE</td></tr>\n",
              "\t<tr><td>Automotive      </td><td>10067</td><td>3</td><td>57.00</td><td>57.00</td><td>Sat</td><td>1.000000</td><td> TRUE</td></tr>\n",
              "\t<tr><td>Automotive      </td><td>10067</td><td>3</td><td>39.50</td><td>39.50</td><td>Sat</td><td>1.000000</td><td> TRUE</td></tr>\n",
              "\t<tr><td>Automotive      </td><td>10067</td><td>3</td><td>21.00</td><td>21.00</td><td>Sat</td><td>1.000000</td><td> TRUE</td></tr>\n",
              "\t<tr><td>Automotive      </td><td>10067</td><td>3</td><td>21.00</td><td>21.00</td><td>Sat</td><td>1.000000</td><td> TRUE</td></tr>\n",
              "\t<tr><td>Automotive      </td><td>10067</td><td>3</td><td>19.50</td><td>19.50</td><td>Sat</td><td>1.000000</td><td> TRUE</td></tr>\n",
              "\t<tr><td>Automotive      </td><td>10067</td><td>3</td><td>18.00</td><td>18.50</td><td>Sat</td><td>1.027778</td><td> TRUE</td></tr>\n",
              "\t<tr><td>Automotive      </td><td>10067</td><td>3</td><td>18.00</td><td>18.00</td><td>Sat</td><td>1.000000</td><td> TRUE</td></tr>\n",
              "\t<tr><td>Automotive      </td><td>10067</td><td>3</td><td>15.00</td><td>15.00</td><td>Sat</td><td>1.000000</td><td> TRUE</td></tr>\n",
              "\t<tr><td>Automotive      </td><td>10067</td><td>3</td><td>12.99</td><td>12.99</td><td>Sat</td><td>1.000000</td><td> TRUE</td></tr>\n",
              "\t<tr><td>Automotive      </td><td>10067</td><td>3</td><td>12.50</td><td>12.50</td><td>Sat</td><td>1.000000</td><td> TRUE</td></tr>\n",
              "\t<tr><td>Automotive      </td><td>10067</td><td>3</td><td> 8.50</td><td> 8.50</td><td>Sat</td><td>1.000000</td><td> TRUE</td></tr>\n",
              "\t<tr><td>Automotive      </td><td>10067</td><td>3</td><td> 6.00</td><td> 6.00</td><td>Sat</td><td>1.000000</td><td> TRUE</td></tr>\n",
              "\t<tr><td>Automotive      </td><td>10067</td><td>3</td><td>49.99</td><td>49.99</td><td>Fri</td><td>1.000000</td><td>FALSE</td></tr>\n",
              "\t<tr><td>Automotive      </td><td>10067</td><td>3</td><td>43.50</td><td>43.50</td><td>Fri</td><td>1.000000</td><td>FALSE</td></tr>\n",
              "\t<tr><td>Automotive      </td><td>10067</td><td>3</td><td>43.50</td><td>43.50</td><td>Fri</td><td>1.000000</td><td>FALSE</td></tr>\n",
              "\t<tr><td>Automotive      </td><td>10067</td><td>3</td><td>37.95</td><td>37.95</td><td>Fri</td><td>1.000000</td><td>FALSE</td></tr>\n",
              "\t<tr><td>Automotive      </td><td>10067</td><td>3</td><td>24.95</td><td>24.95</td><td>Fri</td><td>1.000000</td><td>FALSE</td></tr>\n",
              "\t<tr><td>Automotive      </td><td>10067</td><td>3</td><td>23.00</td><td>23.50</td><td>Fri</td><td>1.021739</td><td>FALSE</td></tr>\n",
              "\t<tr><td>Automotive      </td><td>10067</td><td>3</td><td>21.00</td><td>21.00</td><td>Fri</td><td>1.000000</td><td>FALSE</td></tr>\n",
              "\t<tr><td>Automotive      </td><td>10067</td><td>3</td><td>21.00</td><td>21.00</td><td>Fri</td><td>1.000000</td><td>FALSE</td></tr>\n",
              "\t<tr><td>Automotive      </td><td>10067</td><td>3</td><td>21.00</td><td>21.00</td><td>Fri</td><td>1.000000</td><td>FALSE</td></tr>\n",
              "\t<tr><td>Automotive      </td><td>10067</td><td>3</td><td>21.00</td><td>21.00</td><td>Fri</td><td>1.000000</td><td>FALSE</td></tr>\n",
              "\t<tr><td>Automotive      </td><td>10067</td><td>3</td><td>19.00</td><td>19.50</td><td>Fri</td><td>1.026316</td><td>FALSE</td></tr>\n",
              "\t<tr><td>Automotive      </td><td>10067</td><td>3</td><td>18.99</td><td>18.99</td><td>Fri</td><td>1.000000</td><td>FALSE</td></tr>\n",
              "\t<tr><td>Automotive      </td><td>10067</td><td>3</td><td>16.50</td><td>16.50</td><td>Fri</td><td>1.000000</td><td>FALSE</td></tr>\n",
              "\t<tr><td>Automotive      </td><td>10067</td><td>3</td><td>12.00</td><td>12.00</td><td>Fri</td><td>1.000000</td><td>FALSE</td></tr>\n",
              "\t<tr><td>Automotive      </td><td>10067</td><td>3</td><td>12.00</td><td>12.00</td><td>Fri</td><td>1.000000</td><td>FALSE</td></tr>\n",
              "\t<tr><td>Automotive      </td><td>10067</td><td>3</td><td> 8.50</td><td> 8.50</td><td>Fri</td><td>1.000000</td><td>FALSE</td></tr>\n",
              "</tbody>\n",
              "</table>\n"
            ],
            "text/markdown": "\nA data.frame: 1223 × 8\n\n| Category &lt;chr&gt; | sellerRating &lt;int&gt; | Duration &lt;int&gt; | OpenPrice &lt;dbl&gt; | ClosePrice &lt;dbl&gt; | endDay &lt;chr&gt; | Ratio &lt;dbl&gt; | Weekend &lt;lgl&gt; |\n|---|---|---|---|---|---|---|---|\n| Collectibles     |  1 |  5 |   0.010000 | 112.52 | Tue | 11252.000000 | FALSE |\n| Collectibles     |  1 |  5 |   0.010000 |  61.05 | Tue |  6105.000000 | FALSE |\n| Collectibles     |  1 |  5 |   0.010000 |  52.02 | Tue |  5202.000000 | FALSE |\n| Collectibles     |  1 |  5 |   0.010000 |  46.02 | Tue |  4602.000000 | FALSE |\n| Collectibles     |  1 |  5 |   0.010000 |  26.00 | Tue |  2600.000000 | FALSE |\n| Collectibles     |  1 |  5 |   0.010000 |  20.70 | Tue |  2070.000000 | FALSE |\n| Automotive       |  1 |  5 |   9.990000 | 197.50 | Sat |    19.769770 |  TRUE |\n| Computer         |  1 |  5 |   1.229825 |  35.05 | Mon |    28.500000 | FALSE |\n| Collectibles     |  1 |  5 |   0.010000 | 188.33 | Fri | 18833.000000 | FALSE |\n| Collectibles     |  1 |  5 |   0.010000 |  43.00 | Fri |  4300.000000 | FALSE |\n| Collectibles     |  1 |  5 |   0.010000 |  23.65 | Fri |  2365.000000 | FALSE |\n| Collectibles     |  1 |  5 |   0.010000 |  22.00 | Fri |  2200.000000 | FALSE |\n| Electronics      |  4 | 10 |   1.229697 |  81.16 | Sat |    66.000000 |  TRUE |\n| Electronics      |  4 |  5 |   0.010000 |  62.00 | Sat |  6200.000000 |  TRUE |\n| Books            |  5 | 10 |   6.150000 |   6.15 | Wed |     1.000000 | FALSE |\n| Collectibles     |  5 |  5 |  19.990000 |  77.00 | Sun |     3.851926 |  TRUE |\n| Electronics      |  7 |  3 |  67.634807 | 222.58 | Sat |     3.290909 |  TRUE |\n| Music/Movie/Game |  7 |  3 |  36.890000 |  36.89 | Sat |     1.000000 |  TRUE |\n| Electronics      |  8 |  5 |  69.990000 |  69.99 | Tue |     1.000000 | FALSE |\n| Books            |  8 |  5 |  15.000000 |  47.78 | Sun |     3.185333 |  TRUE |\n| Automotive       |  8 |  7 |  25.000000 |  91.00 | Sat |     3.640000 |  TRUE |\n| Electronics      |  9 |  5 |   1.230000 |   1.23 | Sun |     1.000000 |  TRUE |\n| Automotive       | 10 |  5 |  50.000000 | 170.50 | Tue |     3.410000 | FALSE |\n| Electronics      | 10 | 10 |   1.229752 | 197.99 | Sat |   161.000000 |  TRUE |\n| Automotive       | 10 |  5 |   1.000000 |  70.00 | Mon |    70.000000 | FALSE |\n| Electronics      | 13 | 10 | 122.975490 | 250.87 | Wed |     2.040000 | FALSE |\n| Electronics      | 13 |  7 | 122.973928 | 278.29 | Sun |     2.263000 |  TRUE |\n| Books            | 15 | 10 |   1.231076 |   3.09 | Sun |     2.510000 |  TRUE |\n| Music/Movie/Game | 17 |  7 |   1.766933 |  23.22 | Thu |    13.141414 | FALSE |\n| Music/Movie/Game | 17 |  7 |   1.766914 |  18.74 | Thu |    10.606061 | FALSE |\n| ⋮ | ⋮ | ⋮ | ⋮ | ⋮ | ⋮ | ⋮ | ⋮ |\n| Music/Movie/Game |  9003 | 7 |  3.99 |  5.51 | Fri | 1.380952 | FALSE |\n| Electronics      |  9747 | 5 | 25.00 | 25.00 | Tue | 1.000000 | FALSE |\n| Automotive       | 10067 | 3 | 57.00 | 57.00 | Sat | 1.000000 |  TRUE |\n| Automotive       | 10067 | 3 | 39.50 | 39.50 | Sat | 1.000000 |  TRUE |\n| Automotive       | 10067 | 3 | 21.00 | 21.00 | Sat | 1.000000 |  TRUE |\n| Automotive       | 10067 | 3 | 21.00 | 21.00 | Sat | 1.000000 |  TRUE |\n| Automotive       | 10067 | 3 | 19.50 | 19.50 | Sat | 1.000000 |  TRUE |\n| Automotive       | 10067 | 3 | 18.00 | 18.50 | Sat | 1.027778 |  TRUE |\n| Automotive       | 10067 | 3 | 18.00 | 18.00 | Sat | 1.000000 |  TRUE |\n| Automotive       | 10067 | 3 | 15.00 | 15.00 | Sat | 1.000000 |  TRUE |\n| Automotive       | 10067 | 3 | 12.99 | 12.99 | Sat | 1.000000 |  TRUE |\n| Automotive       | 10067 | 3 | 12.50 | 12.50 | Sat | 1.000000 |  TRUE |\n| Automotive       | 10067 | 3 |  8.50 |  8.50 | Sat | 1.000000 |  TRUE |\n| Automotive       | 10067 | 3 |  6.00 |  6.00 | Sat | 1.000000 |  TRUE |\n| Automotive       | 10067 | 3 | 49.99 | 49.99 | Fri | 1.000000 | FALSE |\n| Automotive       | 10067 | 3 | 43.50 | 43.50 | Fri | 1.000000 | FALSE |\n| Automotive       | 10067 | 3 | 43.50 | 43.50 | Fri | 1.000000 | FALSE |\n| Automotive       | 10067 | 3 | 37.95 | 37.95 | Fri | 1.000000 | FALSE |\n| Automotive       | 10067 | 3 | 24.95 | 24.95 | Fri | 1.000000 | FALSE |\n| Automotive       | 10067 | 3 | 23.00 | 23.50 | Fri | 1.021739 | FALSE |\n| Automotive       | 10067 | 3 | 21.00 | 21.00 | Fri | 1.000000 | FALSE |\n| Automotive       | 10067 | 3 | 21.00 | 21.00 | Fri | 1.000000 | FALSE |\n| Automotive       | 10067 | 3 | 21.00 | 21.00 | Fri | 1.000000 | FALSE |\n| Automotive       | 10067 | 3 | 21.00 | 21.00 | Fri | 1.000000 | FALSE |\n| Automotive       | 10067 | 3 | 19.00 | 19.50 | Fri | 1.026316 | FALSE |\n| Automotive       | 10067 | 3 | 18.99 | 18.99 | Fri | 1.000000 | FALSE |\n| Automotive       | 10067 | 3 | 16.50 | 16.50 | Fri | 1.000000 | FALSE |\n| Automotive       | 10067 | 3 | 12.00 | 12.00 | Fri | 1.000000 | FALSE |\n| Automotive       | 10067 | 3 | 12.00 | 12.00 | Fri | 1.000000 | FALSE |\n| Automotive       | 10067 | 3 |  8.50 |  8.50 | Fri | 1.000000 | FALSE |\n\n",
            "text/latex": "A data.frame: 1223 × 8\n\\begin{tabular}{llllllll}\n Category & sellerRating & Duration & OpenPrice & ClosePrice & endDay & Ratio & Weekend\\\\\n <chr> & <int> & <int> & <dbl> & <dbl> & <chr> & <dbl> & <lgl>\\\\\n\\hline\n\t Collectibles     &  1 &  5 &   0.010000 & 112.52 & Tue & 11252.000000 & FALSE\\\\\n\t Collectibles     &  1 &  5 &   0.010000 &  61.05 & Tue &  6105.000000 & FALSE\\\\\n\t Collectibles     &  1 &  5 &   0.010000 &  52.02 & Tue &  5202.000000 & FALSE\\\\\n\t Collectibles     &  1 &  5 &   0.010000 &  46.02 & Tue &  4602.000000 & FALSE\\\\\n\t Collectibles     &  1 &  5 &   0.010000 &  26.00 & Tue &  2600.000000 & FALSE\\\\\n\t Collectibles     &  1 &  5 &   0.010000 &  20.70 & Tue &  2070.000000 & FALSE\\\\\n\t Automotive       &  1 &  5 &   9.990000 & 197.50 & Sat &    19.769770 &  TRUE\\\\\n\t Computer         &  1 &  5 &   1.229825 &  35.05 & Mon &    28.500000 & FALSE\\\\\n\t Collectibles     &  1 &  5 &   0.010000 & 188.33 & Fri & 18833.000000 & FALSE\\\\\n\t Collectibles     &  1 &  5 &   0.010000 &  43.00 & Fri &  4300.000000 & FALSE\\\\\n\t Collectibles     &  1 &  5 &   0.010000 &  23.65 & Fri &  2365.000000 & FALSE\\\\\n\t Collectibles     &  1 &  5 &   0.010000 &  22.00 & Fri &  2200.000000 & FALSE\\\\\n\t Electronics      &  4 & 10 &   1.229697 &  81.16 & Sat &    66.000000 &  TRUE\\\\\n\t Electronics      &  4 &  5 &   0.010000 &  62.00 & Sat &  6200.000000 &  TRUE\\\\\n\t Books            &  5 & 10 &   6.150000 &   6.15 & Wed &     1.000000 & FALSE\\\\\n\t Collectibles     &  5 &  5 &  19.990000 &  77.00 & Sun &     3.851926 &  TRUE\\\\\n\t Electronics      &  7 &  3 &  67.634807 & 222.58 & Sat &     3.290909 &  TRUE\\\\\n\t Music/Movie/Game &  7 &  3 &  36.890000 &  36.89 & Sat &     1.000000 &  TRUE\\\\\n\t Electronics      &  8 &  5 &  69.990000 &  69.99 & Tue &     1.000000 & FALSE\\\\\n\t Books            &  8 &  5 &  15.000000 &  47.78 & Sun &     3.185333 &  TRUE\\\\\n\t Automotive       &  8 &  7 &  25.000000 &  91.00 & Sat &     3.640000 &  TRUE\\\\\n\t Electronics      &  9 &  5 &   1.230000 &   1.23 & Sun &     1.000000 &  TRUE\\\\\n\t Automotive       & 10 &  5 &  50.000000 & 170.50 & Tue &     3.410000 & FALSE\\\\\n\t Electronics      & 10 & 10 &   1.229752 & 197.99 & Sat &   161.000000 &  TRUE\\\\\n\t Automotive       & 10 &  5 &   1.000000 &  70.00 & Mon &    70.000000 & FALSE\\\\\n\t Electronics      & 13 & 10 & 122.975490 & 250.87 & Wed &     2.040000 & FALSE\\\\\n\t Electronics      & 13 &  7 & 122.973928 & 278.29 & Sun &     2.263000 &  TRUE\\\\\n\t Books            & 15 & 10 &   1.231076 &   3.09 & Sun &     2.510000 &  TRUE\\\\\n\t Music/Movie/Game & 17 &  7 &   1.766933 &  23.22 & Thu &    13.141414 & FALSE\\\\\n\t Music/Movie/Game & 17 &  7 &   1.766914 &  18.74 & Thu &    10.606061 & FALSE\\\\\n\t ⋮ & ⋮ & ⋮ & ⋮ & ⋮ & ⋮ & ⋮ & ⋮\\\\\n\t Music/Movie/Game &  9003 & 7 &  3.99 &  5.51 & Fri & 1.380952 & FALSE\\\\\n\t Electronics      &  9747 & 5 & 25.00 & 25.00 & Tue & 1.000000 & FALSE\\\\\n\t Automotive       & 10067 & 3 & 57.00 & 57.00 & Sat & 1.000000 &  TRUE\\\\\n\t Automotive       & 10067 & 3 & 39.50 & 39.50 & Sat & 1.000000 &  TRUE\\\\\n\t Automotive       & 10067 & 3 & 21.00 & 21.00 & Sat & 1.000000 &  TRUE\\\\\n\t Automotive       & 10067 & 3 & 21.00 & 21.00 & Sat & 1.000000 &  TRUE\\\\\n\t Automotive       & 10067 & 3 & 19.50 & 19.50 & Sat & 1.000000 &  TRUE\\\\\n\t Automotive       & 10067 & 3 & 18.00 & 18.50 & Sat & 1.027778 &  TRUE\\\\\n\t Automotive       & 10067 & 3 & 18.00 & 18.00 & Sat & 1.000000 &  TRUE\\\\\n\t Automotive       & 10067 & 3 & 15.00 & 15.00 & Sat & 1.000000 &  TRUE\\\\\n\t Automotive       & 10067 & 3 & 12.99 & 12.99 & Sat & 1.000000 &  TRUE\\\\\n\t Automotive       & 10067 & 3 & 12.50 & 12.50 & Sat & 1.000000 &  TRUE\\\\\n\t Automotive       & 10067 & 3 &  8.50 &  8.50 & Sat & 1.000000 &  TRUE\\\\\n\t Automotive       & 10067 & 3 &  6.00 &  6.00 & Sat & 1.000000 &  TRUE\\\\\n\t Automotive       & 10067 & 3 & 49.99 & 49.99 & Fri & 1.000000 & FALSE\\\\\n\t Automotive       & 10067 & 3 & 43.50 & 43.50 & Fri & 1.000000 & FALSE\\\\\n\t Automotive       & 10067 & 3 & 43.50 & 43.50 & Fri & 1.000000 & FALSE\\\\\n\t Automotive       & 10067 & 3 & 37.95 & 37.95 & Fri & 1.000000 & FALSE\\\\\n\t Automotive       & 10067 & 3 & 24.95 & 24.95 & Fri & 1.000000 & FALSE\\\\\n\t Automotive       & 10067 & 3 & 23.00 & 23.50 & Fri & 1.021739 & FALSE\\\\\n\t Automotive       & 10067 & 3 & 21.00 & 21.00 & Fri & 1.000000 & FALSE\\\\\n\t Automotive       & 10067 & 3 & 21.00 & 21.00 & Fri & 1.000000 & FALSE\\\\\n\t Automotive       & 10067 & 3 & 21.00 & 21.00 & Fri & 1.000000 & FALSE\\\\\n\t Automotive       & 10067 & 3 & 21.00 & 21.00 & Fri & 1.000000 & FALSE\\\\\n\t Automotive       & 10067 & 3 & 19.00 & 19.50 & Fri & 1.026316 & FALSE\\\\\n\t Automotive       & 10067 & 3 & 18.99 & 18.99 & Fri & 1.000000 & FALSE\\\\\n\t Automotive       & 10067 & 3 & 16.50 & 16.50 & Fri & 1.000000 & FALSE\\\\\n\t Automotive       & 10067 & 3 & 12.00 & 12.00 & Fri & 1.000000 & FALSE\\\\\n\t Automotive       & 10067 & 3 & 12.00 & 12.00 & Fri & 1.000000 & FALSE\\\\\n\t Automotive       & 10067 & 3 &  8.50 &  8.50 & Fri & 1.000000 & FALSE\\\\\n\\end{tabular}\n",
            "text/plain": [
              "     Category         sellerRating Duration OpenPrice  ClosePrice endDay\n",
              "1    Collectibles      1            5         0.010000 112.52     Tue   \n",
              "2    Collectibles      1            5         0.010000  61.05     Tue   \n",
              "3    Collectibles      1            5         0.010000  52.02     Tue   \n",
              "4    Collectibles      1            5         0.010000  46.02     Tue   \n",
              "5    Collectibles      1            5         0.010000  26.00     Tue   \n",
              "6    Collectibles      1            5         0.010000  20.70     Tue   \n",
              "7    Automotive        1            5         9.990000 197.50     Sat   \n",
              "8    Computer          1            5         1.229825  35.05     Mon   \n",
              "9    Collectibles      1            5         0.010000 188.33     Fri   \n",
              "10   Collectibles      1            5         0.010000  43.00     Fri   \n",
              "11   Collectibles      1            5         0.010000  23.65     Fri   \n",
              "12   Collectibles      1            5         0.010000  22.00     Fri   \n",
              "13   Electronics       4           10         1.229697  81.16     Sat   \n",
              "14   Electronics       4            5         0.010000  62.00     Sat   \n",
              "15   Books             5           10         6.150000   6.15     Wed   \n",
              "16   Collectibles      5            5        19.990000  77.00     Sun   \n",
              "17   Electronics       7            3        67.634807 222.58     Sat   \n",
              "18   Music/Movie/Game  7            3        36.890000  36.89     Sat   \n",
              "19   Electronics       8            5        69.990000  69.99     Tue   \n",
              "20   Books             8            5        15.000000  47.78     Sun   \n",
              "21   Automotive        8            7        25.000000  91.00     Sat   \n",
              "22   Electronics       9            5         1.230000   1.23     Sun   \n",
              "23   Automotive       10            5        50.000000 170.50     Tue   \n",
              "24   Electronics      10           10         1.229752 197.99     Sat   \n",
              "25   Automotive       10            5         1.000000  70.00     Mon   \n",
              "26   Electronics      13           10       122.975490 250.87     Wed   \n",
              "27   Electronics      13            7       122.973928 278.29     Sun   \n",
              "28   Books            15           10         1.231076   3.09     Sun   \n",
              "29   Music/Movie/Game 17            7         1.766933  23.22     Thu   \n",
              "30   Music/Movie/Game 17            7         1.766914  18.74     Thu   \n",
              "⋮    ⋮                ⋮            ⋮        ⋮          ⋮          ⋮     \n",
              "1194 Music/Movie/Game  9003        7         3.99       5.51      Fri   \n",
              "1195 Electronics       9747        5        25.00      25.00      Tue   \n",
              "1196 Automotive       10067        3        57.00      57.00      Sat   \n",
              "1197 Automotive       10067        3        39.50      39.50      Sat   \n",
              "1198 Automotive       10067        3        21.00      21.00      Sat   \n",
              "1199 Automotive       10067        3        21.00      21.00      Sat   \n",
              "1200 Automotive       10067        3        19.50      19.50      Sat   \n",
              "1201 Automotive       10067        3        18.00      18.50      Sat   \n",
              "1202 Automotive       10067        3        18.00      18.00      Sat   \n",
              "1203 Automotive       10067        3        15.00      15.00      Sat   \n",
              "1204 Automotive       10067        3        12.99      12.99      Sat   \n",
              "1205 Automotive       10067        3        12.50      12.50      Sat   \n",
              "1206 Automotive       10067        3         8.50       8.50      Sat   \n",
              "1207 Automotive       10067        3         6.00       6.00      Sat   \n",
              "1208 Automotive       10067        3        49.99      49.99      Fri   \n",
              "1209 Automotive       10067        3        43.50      43.50      Fri   \n",
              "1210 Automotive       10067        3        43.50      43.50      Fri   \n",
              "1211 Automotive       10067        3        37.95      37.95      Fri   \n",
              "1212 Automotive       10067        3        24.95      24.95      Fri   \n",
              "1213 Automotive       10067        3        23.00      23.50      Fri   \n",
              "1214 Automotive       10067        3        21.00      21.00      Fri   \n",
              "1215 Automotive       10067        3        21.00      21.00      Fri   \n",
              "1216 Automotive       10067        3        21.00      21.00      Fri   \n",
              "1217 Automotive       10067        3        21.00      21.00      Fri   \n",
              "1218 Automotive       10067        3        19.00      19.50      Fri   \n",
              "1219 Automotive       10067        3        18.99      18.99      Fri   \n",
              "1220 Automotive       10067        3        16.50      16.50      Fri   \n",
              "1221 Automotive       10067        3        12.00      12.00      Fri   \n",
              "1222 Automotive       10067        3        12.00      12.00      Fri   \n",
              "1223 Automotive       10067        3         8.50       8.50      Fri   \n",
              "     Ratio        Weekend\n",
              "1    11252.000000 FALSE  \n",
              "2     6105.000000 FALSE  \n",
              "3     5202.000000 FALSE  \n",
              "4     4602.000000 FALSE  \n",
              "5     2600.000000 FALSE  \n",
              "6     2070.000000 FALSE  \n",
              "7       19.769770  TRUE  \n",
              "8       28.500000 FALSE  \n",
              "9    18833.000000 FALSE  \n",
              "10    4300.000000 FALSE  \n",
              "11    2365.000000 FALSE  \n",
              "12    2200.000000 FALSE  \n",
              "13      66.000000  TRUE  \n",
              "14    6200.000000  TRUE  \n",
              "15       1.000000 FALSE  \n",
              "16       3.851926  TRUE  \n",
              "17       3.290909  TRUE  \n",
              "18       1.000000  TRUE  \n",
              "19       1.000000 FALSE  \n",
              "20       3.185333  TRUE  \n",
              "21       3.640000  TRUE  \n",
              "22       1.000000  TRUE  \n",
              "23       3.410000 FALSE  \n",
              "24     161.000000  TRUE  \n",
              "25      70.000000 FALSE  \n",
              "26       2.040000 FALSE  \n",
              "27       2.263000  TRUE  \n",
              "28       2.510000  TRUE  \n",
              "29      13.141414 FALSE  \n",
              "30      10.606061 FALSE  \n",
              "⋮    ⋮            ⋮      \n",
              "1194 1.380952     FALSE  \n",
              "1195 1.000000     FALSE  \n",
              "1196 1.000000      TRUE  \n",
              "1197 1.000000      TRUE  \n",
              "1198 1.000000      TRUE  \n",
              "1199 1.000000      TRUE  \n",
              "1200 1.000000      TRUE  \n",
              "1201 1.027778      TRUE  \n",
              "1202 1.000000      TRUE  \n",
              "1203 1.000000      TRUE  \n",
              "1204 1.000000      TRUE  \n",
              "1205 1.000000      TRUE  \n",
              "1206 1.000000      TRUE  \n",
              "1207 1.000000      TRUE  \n",
              "1208 1.000000     FALSE  \n",
              "1209 1.000000     FALSE  \n",
              "1210 1.000000     FALSE  \n",
              "1211 1.000000     FALSE  \n",
              "1212 1.000000     FALSE  \n",
              "1213 1.021739     FALSE  \n",
              "1214 1.000000     FALSE  \n",
              "1215 1.000000     FALSE  \n",
              "1216 1.000000     FALSE  \n",
              "1217 1.000000     FALSE  \n",
              "1218 1.026316     FALSE  \n",
              "1219 1.000000     FALSE  \n",
              "1220 1.000000     FALSE  \n",
              "1221 1.000000     FALSE  \n",
              "1222 1.000000     FALSE  \n",
              "1223 1.000000     FALSE  "
            ]
          },
          "metadata": {}
        },
        {
          "output_type": "display_data",
          "data": {
            "text/html": [
              "400"
            ],
            "text/markdown": "400",
            "text/latex": "400",
            "text/plain": [
              "[1] 400"
            ]
          },
          "metadata": {}
        }
      ]
    }
  ]
}